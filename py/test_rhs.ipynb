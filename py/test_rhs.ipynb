{
 "cells": [
  {
   "cell_type": "code",
   "execution_count": 1,
   "metadata": {},
   "outputs": [],
   "source": [
    "%matplotlib inline\n",
    "import numpy as np\n",
    "import matplotlib.pyplot as plt\n",
    "from model import BarotropicModel"
   ]
  },
  {
   "cell_type": "code",
   "execution_count": 2,
   "metadata": {},
   "outputs": [
    {
     "data": {
      "text/plain": [
       "array([[  -804.10883979, -73579.64400484, -43285.50909991,\n",
       "        -19768.28742322, -11546.04536904],\n",
       "       [ 72015.56749221,   -759.96767284, -19009.05604357,\n",
       "        -15099.83787505, -11531.10317101],\n",
       "       [ 41769.92207877,  17537.61018939,   -711.47818135,\n",
       "         -6333.18029597,  -7051.43014838],\n",
       "       [ 18299.55317019,  13675.24478896,   4957.07670138,\n",
       "          -664.62541325,  -3005.61652911],\n",
       "       [ 10123.37392033,  10152.57288925,   5721.38935812,\n",
       "          1722.42850695,   -618.56260891]])"
      ]
     },
     "execution_count": 2,
     "metadata": {},
     "output_type": "execute_result"
    }
   ],
   "source": [
    "n = 100\n",
    "rhs, vort = BarotropicModel._compute_rhs(None, np.arange(n*n).reshape(n, n), 1, 1, 1)\n",
    "\n",
    "rhs[:5,:5]"
   ]
  },
  {
   "cell_type": "code",
   "execution_count": 3,
   "metadata": {},
   "outputs": [
    {
     "data": {
      "text/plain": [
       "array([[10100., 10000., 10000., 10000., 10000.],\n",
       "       [  100.,     0.,     0.,     0.,     0.],\n",
       "       [  100.,     0.,     0.,     0.,     0.],\n",
       "       [  100.,     0.,     0.,     0.,     0.],\n",
       "       [  100.,     0.,     0.,     0.,     0.]])"
      ]
     },
     "execution_count": 3,
     "metadata": {},
     "output_type": "execute_result"
    }
   ],
   "source": [
    "vort[:5,:5]"
   ]
  },
  {
   "cell_type": "code",
   "execution_count": null,
   "metadata": {},
   "outputs": [],
   "source": []
  },
  {
   "cell_type": "code",
   "execution_count": 5,
   "metadata": {},
   "outputs": [
    {
     "data": {
      "text/plain": [
       "dtype('float64')"
      ]
     },
     "execution_count": 5,
     "metadata": {},
     "output_type": "execute_result"
    }
   ],
   "source": [
    "rhs.dtype"
   ]
  },
  {
   "cell_type": "code",
   "execution_count": 6,
   "metadata": {},
   "outputs": [],
   "source": [
    "rhs.tofile('../C/test/check_data/rhs.dat')"
   ]
  },
  {
   "cell_type": "code",
   "execution_count": 7,
   "metadata": {},
   "outputs": [],
   "source": [
    "vort.tofile('../C/test/check_data/vort.dat')"
   ]
  },
  {
   "cell_type": "code",
   "execution_count": null,
   "metadata": {},
   "outputs": [],
   "source": []
  }
 ],
 "metadata": {
  "kernelspec": {
   "display_name": "Python 3",
   "language": "python",
   "name": "python3"
  },
  "language_info": {
   "codemirror_mode": {
    "name": "ipython",
    "version": 3
   },
   "file_extension": ".py",
   "mimetype": "text/x-python",
   "name": "python",
   "nbconvert_exporter": "python",
   "pygments_lexer": "ipython3",
   "version": "3.6.12"
  }
 },
 "nbformat": 4,
 "nbformat_minor": 4
}
